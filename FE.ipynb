{
 "cells": [
  {
   "cell_type": "markdown",
   "metadata": {},
   "source": [
    "From Local"
   ]
  },
  {
   "cell_type": "code",
   "execution_count": null,
   "metadata": {},
   "outputs": [],
   "source": [
    "import pandas as pd\n",
    "import numpy as np"
   ]
  },
  {
   "cell_type": "code",
   "execution_count": null,
   "metadata": {},
   "outputs": [],
   "source": [
    "df = pd.read_csv(\"titanic_train.csv\")\n",
    "df.head(6)"
   ]
  },
  {
   "cell_type": "markdown",
   "metadata": {},
   "source": [
    "Identify numerical and categorical features"
   ]
  },
  {
   "cell_type": "code",
   "execution_count": null,
   "metadata": {},
   "outputs": [],
   "source": [
    "df.dtypes"
   ]
  },
  {
   "cell_type": "code",
   "execution_count": null,
   "metadata": {},
   "outputs": [],
   "source": [
    "df['SibSp'].unique()\n",
    "df['Parch'].unique()\n",
    "df['Embarked'].unique()"
   ]
  },
  {
   "cell_type": "code",
   "execution_count": null,
   "metadata": {},
   "outputs": [],
   "source": [
    "#not all int values are numerical\n",
    "categorical = ['Survived', 'Pclass', 'Name', 'Sex', 'SibSp', 'Parch', 'Ticket', 'Cabin', 'Embarked']\n",
    "numerical = [x for x in df.columns if x not in categorical]\n",
    "numerical"
   ]
  },
  {
   "cell_type": "markdown",
   "metadata": {},
   "source": [
    "Identify missing values and visualize them"
   ]
  },
  {
   "cell_type": "code",
   "execution_count": null,
   "metadata": {},
   "outputs": [],
   "source": [
    "df.isnull().mean()"
   ]
  },
  {
   "cell_type": "code",
   "execution_count": null,
   "metadata": {},
   "outputs": [],
   "source": [
    "#function to calculate the percentage of missing values in each feature and plot a heatmap of missing values\n",
    "import missingno as msno\n",
    "\n",
    "def missingValPercentage(df):\n",
    "    mean = df.isnull().mean().sort_values(ascending=False)\n",
    "    sum = df.isnull().sum()\n",
    "    rowCount = df.shape[0]\n",
    "    for x in mean.index:\n",
    "        if mean[x] != 0:\n",
    "            print(\"{:.2f}\".format(mean[x]*100), r\"% of values missing in\", x, sum[x],'/', rowCount)\n",
    "    return msno.heatmap(df,figsize=(10,6))"
   ]
  },
  {
   "cell_type": "code",
   "execution_count": null,
   "metadata": {},
   "outputs": [],
   "source": [
    "missingValPercentage(df)"
   ]
  },
  {
   "cell_type": "markdown",
   "metadata": {},
   "source": [
    "Identifying the outliers"
   ]
  },
  {
   "cell_type": "code",
   "execution_count": null,
   "metadata": {},
   "outputs": [],
   "source": [
    "df.info()"
   ]
  },
  {
   "cell_type": "code",
   "execution_count": null,
   "metadata": {},
   "outputs": [],
   "source": [
    "df.describe()"
   ]
  },
  {
   "cell_type": "code",
   "execution_count": null,
   "metadata": {},
   "outputs": [],
   "source": [
    "df.plot.box(grid=True)"
   ]
  },
  {
   "cell_type": "code",
   "execution_count": null,
   "metadata": {},
   "outputs": [],
   "source": [
    "import seaborn as sns\n",
    "\n",
    "sns.boxplot(x='Embarked', y='Age', data=df)"
   ]
  },
  {
   "cell_type": "markdown",
   "metadata": {},
   "source": [
    "Handling the missing values of numerical features"
   ]
  },
  {
   "cell_type": "code",
   "execution_count": null,
   "metadata": {},
   "outputs": [],
   "source": [
    "#let us look into the numerical feature with the highest number of missingvalue i.e., Age\n",
    "#we will try to fill the NaN values with mean, median and mode and select the best way of imputation\n",
    "\n",
    "import matplotlib.pyplot as plt\n",
    "%matplotlib inline\n",
    "#function to visualize the distribution (kde) of original feature vs feature imputed in various ways\n",
    "def kdePlot(*arguments):\n",
    "    fig = plt.figure()\n",
    "    ax = fig.add_subplot(111)\n",
    "    for feature in arguments:\n",
    "        df[feature].plot(kind='kde', ax=ax)\n",
    "        #df[imputed_feature].plot(kind='kde', ax=ax, color='red')\n",
    "    lines, labels = ax.get_legend_handles_labels()\n",
    "    ax.legend(lines, labels, loc='best')\n"
   ]
  },
  {
   "cell_type": "code",
   "execution_count": null,
   "metadata": {},
   "outputs": [],
   "source": [
    "\n",
    "#mean imputation\n",
    "df['Age_Mean'] = df['Age'].fillna(df['Age'].mean())\n",
    "kdePlot('Age','Age_Mean')\n",
    "df['Age'].mean()"
   ]
  },
  {
   "cell_type": "code",
   "execution_count": null,
   "metadata": {},
   "outputs": [],
   "source": [
    "#mode imputation\n",
    "df['Age_Mode'] = df['Age'].fillna(df['Age'].mode()[0])\n",
    "kdePlot('Age','Age_Mode')\n",
    "df['Age'].mode()[0]"
   ]
  },
  {
   "cell_type": "code",
   "execution_count": null,
   "metadata": {},
   "outputs": [],
   "source": [
    "#median imputation\n",
    "df['Age_Median'] = df['Age'].fillna(df['Age'].median())\n",
    "kdePlot('Age','Age_Median')\n",
    "df['Age'].median()"
   ]
  },
  {
   "cell_type": "code",
   "execution_count": null,
   "metadata": {},
   "outputs": [],
   "source": [
    "#random sample imputation\n",
    "df.isnull().sum()"
   ]
  },
  {
   "cell_type": "code",
   "execution_count": null,
   "metadata": {},
   "outputs": [],
   "source": [
    "def impute_nan(df,variable,median):\n",
    "    df[variable+\"_random\"]=df[variable]\n",
    "    print(df['Age_random'])\n",
    "    ##It will have the random sample to fill the na\n",
    "    random_sample=df[variable].dropna().sample(df[variable].isnull().sum(),random_state=0) #https://pandas.pydata.org/docs/reference/api/pandas.DataFrame.sample.html\n",
    "    ##pandas need to have same index in order to merge the dataset\n",
    "    random_sample.index=df[df[variable].isnull()].index\n",
    "    df.loc[df[variable].isnull(),variable+'_random']=random_sample"
   ]
  },
  {
   "cell_type": "code",
   "execution_count": null,
   "metadata": {},
   "outputs": [],
   "source": [
    "impute_nan(df, 'Age', df['Age'].mean())"
   ]
  },
  {
   "cell_type": "code",
   "execution_count": null,
   "metadata": {},
   "outputs": [],
   "source": [
    "kdePlot('Age_Median', 'Age_random', 'Age', 'Age_Median', 'Age_Mean')"
   ]
  },
  {
   "cell_type": "code",
   "execution_count": null,
   "metadata": {},
   "outputs": [],
   "source": [
    "#Capturing NAN values with a new feature\n",
    "\n",
    "df['Age_New_Feature'] = np.where(df['Age'].isnull(),1,0)"
   ]
  },
  {
   "cell_type": "code",
   "execution_count": null,
   "metadata": {},
   "outputs": [],
   "source": [
    "df['Age_New_Feature'].sum()#sum is equal to number of NaN values as NaN is now 1 and non NaN is 0"
   ]
  },
  {
   "cell_type": "code",
   "execution_count": null,
   "metadata": {},
   "outputs": [],
   "source": [
    "kdePlot('Age_New_Feature')"
   ]
  },
  {
   "cell_type": "code",
   "execution_count": null,
   "metadata": {},
   "outputs": [],
   "source": [
    "#End of Distribution imputation\n",
    "\n",
    "df['Age'].hist(bins=50)\n",
    "extreme_value = df['Age'].mean()+3*df['Age'].std()\n",
    "df['Age_EndOf_Distribution'] = df['Age'].fillna(extreme_value)"
   ]
  },
  {
   "cell_type": "code",
   "execution_count": null,
   "metadata": {},
   "outputs": [],
   "source": [
    "kdePlot('Age_Median', 'Age_EndOf_Distribution')"
   ]
  },
  {
   "cell_type": "code",
   "execution_count": null,
   "metadata": {},
   "outputs": [],
   "source": [
    "#w.r.t. end of disrtibution imputation, lets compare the outliers before and after imputation\n",
    "\n",
    "sns.boxplot('Age', data=df).set_title(\"Before Imputation\")"
   ]
  },
  {
   "cell_type": "code",
   "execution_count": null,
   "metadata": {},
   "outputs": [],
   "source": [
    "sns.boxplot('Age_EndOf_Distribution', data=df).set_title(\"After End of Distribution Imputation\")"
   ]
  },
  {
   "cell_type": "code",
   "execution_count": null,
   "metadata": {},
   "outputs": [],
   "source": [
    "#Arbitrary Value Imputation\n",
    "#lets take an arbitrary value of 90\n",
    "\n",
    "df['Age_Arbitrary'] = df['Age'].fillna(90)"
   ]
  },
  {
   "cell_type": "code",
   "execution_count": null,
   "metadata": {},
   "outputs": [],
   "source": [
    "kdePlot('Age', 'Age_Arbitrary')"
   ]
  },
  {
   "cell_type": "code",
   "execution_count": null,
   "metadata": {},
   "outputs": [],
   "source": [
    "#w.r.t. arbitrary value imputation, lets compare the outliers before and after imputation\n",
    "\n",
    "sns.boxplot('Age', data=df).set_title(\"Before Imputation\")"
   ]
  },
  {
   "cell_type": "code",
   "execution_count": null,
   "metadata": {},
   "outputs": [],
   "source": [
    "sns.boxplot('Age_Arbitrary', data=df).set_title(\"After Arbitrary Value Imputation\")"
   ]
  },
  {
   "cell_type": "code",
   "execution_count": null,
   "metadata": {},
   "outputs": [],
   "source": [
    "#from above plots - though the outliers are treated, the distribution after imputation is not a perfect gaussian distribution"
   ]
  },
  {
   "cell_type": "markdown",
   "metadata": {},
   "source": [
    "Handling the missing values of categorical features"
   ]
  },
  {
   "cell_type": "code",
   "execution_count": null,
   "metadata": {},
   "outputs": [],
   "source": [
    "#frequent value imputation\n",
    "#lets take the categorical feature - Embarked\n",
    "\n",
    "df.Embarked.unique()"
   ]
  },
  {
   "cell_type": "code",
   "execution_count": null,
   "metadata": {},
   "outputs": [],
   "source": [
    "#lets find the most frequestly occuring cabin class and use it to fill the NaN values\n",
    "def freqValue(df,feature):\n",
    "    print(\"\\\"\",df[feature].value_counts().index[0], \"\\\"\", \"is the most frequent value in {} column with\".format(feature), df[feature].value_counts()[0], \"occurences\")"
   ]
  },
  {
   "cell_type": "code",
   "execution_count": null,
   "metadata": {},
   "outputs": [],
   "source": [
    "freqValue(df, 'Embarked')"
   ]
  },
  {
   "cell_type": "code",
   "execution_count": null,
   "metadata": {},
   "outputs": [],
   "source": [
    "#lets capture the importance or the info of the NaN values in cabin feature in a new feature - Embarked_NaN\n",
    "#it will help us to analyse if there is a correlation between missing of these values with any other feature even after we replace the NaN values\n",
    "\n",
    "def captureNaN(df, feature):\n",
    "    df[feature+\"_NaN\"] = np.where(df[feature].isnull(), 1, 0)\n",
    "\n",
    "captureNaN(df,'Embarked')"
   ]
  },
  {
   "cell_type": "code",
   "execution_count": null,
   "metadata": {},
   "outputs": [],
   "source": [
    "df['Embarked'] = df['Embarked'].fillna(df['Embarked'].value_counts().index[0])\n",
    "df['Embarked'].isnull().sum()\n"
   ]
  },
  {
   "cell_type": "code",
   "execution_count": null,
   "metadata": {},
   "outputs": [],
   "source": [
    "#Replacing NAN with a new category\n",
    "#Suppose if we have more frequent categories, we just replace NAN with a new category (e.g.: replace NaN with 'Missing')\n",
    "#lets apply this on Cabin as it has 77% of missing values\n",
    "#creating a new feature Cabin_Class using the cabin category makes more sense than the cabin number\n",
    "\n",
    "df['Cabin_Class'] = df['Cabin'].str[0]\n",
    "df.Cabin_Class.unique()\n",
    "\n",
    "df['Cabin_Class'].fillna('Missing', inplace=True)"
   ]
  },
  {
   "cell_type": "code",
   "execution_count": null,
   "metadata": {},
   "outputs": [],
   "source": [
    "df.head()"
   ]
  },
  {
   "cell_type": "code",
   "execution_count": null,
   "metadata": {},
   "outputs": [],
   "source": [
    "df.isnull().sum()"
   ]
  },
  {
   "cell_type": "markdown",
   "metadata": {},
   "source": [
    "Checking and handling if the dataset is imbalanced"
   ]
  },
  {
   "cell_type": "code",
   "execution_count": null,
   "metadata": {},
   "outputs": [],
   "source": [
    "#check the unique categories in the depenadant(target) column and find their count to check if its balanced\n",
    "def checkIfBalanced(df, targetFeature):\n",
    "    valueCounts=df[targetFeature].value_counts()\n",
    "    totalCount=len(df[targetFeature])\n",
    "    for idx in valueCounts.index:\n",
    "        print(idx, \"occurs\", valueCounts[idx], \"times ({:.2f}\".format((valueCounts[idx]/totalCount)*100), \"%)\")\n"
   ]
  },
  {
   "cell_type": "code",
   "execution_count": null,
   "metadata": {},
   "outputs": [],
   "source": [
    "checkIfBalanced(df, 'Survived')"
   ]
  },
  {
   "cell_type": "code",
   "execution_count": null,
   "metadata": {},
   "outputs": [],
   "source": [
    "#for time being, considering this to be a bnalanced dataset\n",
    "#Ideal balanced dataset for a binary classification is 50% + 50%"
   ]
  },
  {
   "cell_type": "markdown",
   "metadata": {},
   "source": [
    "Treating the outliers"
   ]
  },
  {
   "cell_type": "markdown",
   "metadata": {},
   "source": []
  },
  {
   "cell_type": "markdown",
   "metadata": {},
   "source": []
  }
 ],
 "metadata": {
  "kernelspec": {
   "display_name": "Python 3.8.3 ('base')",
   "language": "python",
   "name": "python3"
  },
  "language_info": {
   "codemirror_mode": {
    "name": "ipython",
    "version": 3
   },
   "file_extension": ".py",
   "mimetype": "text/x-python",
   "name": "python",
   "nbconvert_exporter": "python",
   "pygments_lexer": "ipython3",
   "version": "3.8.3"
  },
  "orig_nbformat": 4,
  "vscode": {
   "interpreter": {
    "hash": "effe0537abfed60f911a6d119edf3dd23784c9dcf6ad90564d0c8420279a3d36"
   }
  }
 },
 "nbformat": 4,
 "nbformat_minor": 2
}
